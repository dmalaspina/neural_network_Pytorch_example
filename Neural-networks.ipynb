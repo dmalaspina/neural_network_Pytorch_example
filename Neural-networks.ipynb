{
 "cells": [
  {
   "cell_type": "markdown",
   "metadata": {},
   "source": [
    "# Neural Networks using Pytorch\n",
    "\n",
    "Pytorch is a framework of different machine learning algorithms that support CUDA parallelization. Pytorch have a data structure similar to Numpy arrays that are called Tensors.\n",
    "\n",
    "This is a simple implementation of a neural network that learn from [MNIST dataset](http://yann.lecun.com/exdb/mnist/) using a single layer model.\n",
    "\n",
    "The model use [Pytorch 1.11](https://pytorch.org/)"
   ]
  },
  {
   "cell_type": "code",
   "execution_count": 1,
   "metadata": {},
   "outputs": [],
   "source": [
    "import torch\n",
    "import torch.nn as nn # neural networks\n",
    "import torch.optim as optim # optimization\n",
    "import torch.nn.functional as Tfunc \n",
    "from torch.utils.data import DataLoader \n",
    "import torchvision.datasets as Tdatasets \n",
    "import torchvision.transforms as Ttransforms\n",
    "import matplotlib.pyplot as plt\n",
    "import numpy as np"
   ]
  },
  {
   "cell_type": "markdown",
   "metadata": {},
   "source": [
    "Let's set up a couple of parameters and load our dataset. The dataset is MNIST and each image is going to be transformed to Pytorch tensor. The loader is going to take a batch of 64 images that are shuffled each time we call it."
   ]
  },
  {
   "cell_type": "code",
   "execution_count": 2,
   "metadata": {},
   "outputs": [],
   "source": [
    "#this is the size of our batch of data\n",
    "batch_size = 64\n",
    "\n",
    "#our train dataset from MNIST downloaded into dataset folder if true and transformed into a Pytorch tensor\n",
    "train_dataset = Tdatasets.MNIST( root=\"dataset/\", train=True, transform=Ttransforms.ToTensor(), download=True )\n",
    "\n",
    "#we use the dataloader to load the train dataset of bach size and is going to be shuffled\n",
    "train_loader = DataLoader(dataset=train_dataset, batch_size=batch_size, shuffle=True)"
   ]
  },
  {
   "cell_type": "markdown",
   "metadata": {},
   "source": [
    "For more information about neural networks visit [this awesome example](https://aegeorge42.github.io/)"
   ]
  },
  {
   "cell_type": "markdown",
   "metadata": {},
   "source": [
    "Let's build our Neural Network model. We are going to use: \n",
    "\n",
    "- One input layer\n",
    "\n",
    "- One hidden layer of 50 nodes\n",
    "\n",
    "- One output layer\n",
    "\n",
    "- All neurons are fully connected\n",
    "\n",
    "- [ReLU](https://en.wikipedia.org/wiki/Rectifier_(neural_networks))(Rectified Linear Unit) activation function\n",
    "\n",
    "- Backpropagation is automatically done by Pytorch using autograd\n",
    "\n",
    "Let's define the class with our model:"
   ]
  },
  {
   "cell_type": "code",
   "execution_count": 3,
   "metadata": {},
   "outputs": [],
   "source": [
    "class NN(nn.Module):\n",
    "    #initialization function\n",
    "    def __init__(self, input_size, num_classes):\n",
    "        super(NN, self).__init__()\n",
    "        # one input layer \n",
    "        self.fc1 = nn.Linear(input_size, 50)\n",
    "        # one hidden layer\n",
    "        self.fc2 = nn.Linear(50, num_classes)\n",
    "        \n",
    "    #forward function\n",
    "    def forward(self, x):\n",
    "        # one output layer\n",
    "        #use ReLU as activation function\n",
    "        x = Tfunc.relu(self.fc1(x))\n",
    "        x = self.fc2(x)\n",
    "        return x "
   ]
  },
  {
   "cell_type": "markdown",
   "metadata": {},
   "source": [
    "### Training and parameters"
   ]
  },
  {
   "cell_type": "code",
   "execution_count": 4,
   "metadata": {},
   "outputs": [],
   "source": [
    "#use cuda if available for parallelization\n",
    "device = torch.device(\"cuda\" if torch.cuda.is_available() else \"cpu\")\n",
    "\n",
    "#amount of pixels of each image\n",
    "input_size = 784 # 28x28 = 784, size of MNIST images (grayscale)\n",
    "\n",
    "#number of clases \n",
    "num_classes = 10 #there are 10 digits from 0 to 9\n",
    "\n",
    "#we set to this value for this example\n",
    "learning_rate = 0.001\n",
    "\n",
    "#number of times (epochs) that is going to perform the training  \n",
    "num_epochs = 4"
   ]
  },
  {
   "cell_type": "code",
   "execution_count": 5,
   "metadata": {},
   "outputs": [
    {
     "data": {
      "text/plain": [
       "device(type='cuda')"
      ]
     },
     "execution_count": 5,
     "metadata": {},
     "output_type": "execute_result"
    }
   ],
   "source": [
    "device"
   ]
  },
  {
   "cell_type": "markdown",
   "metadata": {},
   "source": [
    "We have a NVIDIA GPU so is going to use it for the model, this is the good thing of been a **Gamer** :)"
   ]
  },
  {
   "cell_type": "code",
   "execution_count": 6,
   "metadata": {},
   "outputs": [],
   "source": [
    "#model defined previously in our NN class and is sent to the cuda device in this case\n",
    "model = NN(input_size=input_size, num_classes=num_classes).to(device)\n",
    "\n",
    "#We are using a Cross entropy criteria for our loss\n",
    "criterion = nn.CrossEntropyLoss()\n",
    "\n",
    "#The optimizer is Adam with the learning rate that we previously set\n",
    "optimizer = optim.Adam(model.parameters(), lr=learning_rate)"
   ]
  },
  {
   "cell_type": "markdown",
   "metadata": {},
   "source": [
    "### Training loop"
   ]
  },
  {
   "cell_type": "code",
   "execution_count": 7,
   "metadata": {},
   "outputs": [
    {
     "name": "stdout",
     "output_type": "stream",
     "text": [
      "Epoch: 0\n",
      "Epoch: 1\n",
      "Epoch: 2\n",
      "Epoch: 3\n"
     ]
    }
   ],
   "source": [
    "for epoch in range(num_epochs):\n",
    "    print(f\"Epoch: {epoch}\")\n",
    "    for batch_idx, (data, targets) in enumerate(train_loader):\n",
    "        # Get data to cuda if possible\n",
    "        data = data.to(device=device)\n",
    "        targets = targets.to(device=device)\n",
    "\n",
    "        # Get to correct shape, 28x28->784\n",
    "        # -1 will flatten all outer dimensions into one\n",
    "        data = data.reshape(data.shape[0], -1) \n",
    "\n",
    "        # forward propagation\n",
    "        scores = model(data)\n",
    "        loss = criterion(scores, targets)\n",
    "\n",
    "        # zero previous gradients\n",
    "        optimizer.zero_grad()\n",
    "        \n",
    "        # back-propagation\n",
    "        loss.backward()\n",
    "\n",
    "        # gradient descent or adam step\n",
    "        optimizer.step()"
   ]
  },
  {
   "cell_type": "markdown",
   "metadata": {},
   "source": [
    "### Testing"
   ]
  },
  {
   "cell_type": "code",
   "execution_count": 8,
   "metadata": {},
   "outputs": [],
   "source": [
    "test_dataset = Tdatasets.MNIST(root=\"dataset/\", train=False, transform=Ttransforms.ToTensor(), download=True)\n",
    "test_loader = DataLoader(dataset=test_dataset, batch_size=batch_size, shuffle=True)"
   ]
  },
  {
   "cell_type": "code",
   "execution_count": 9,
   "metadata": {},
   "outputs": [],
   "source": [
    "def check_accuracy(loader, model):\n",
    "    num_correct = 0\n",
    "    num_samples = 0\n",
    "    model.eval()\n",
    "\n",
    "    with torch.no_grad():\n",
    "        for x, y in loader:\n",
    "            x = x.to(device=device)\n",
    "            y = y.to(device=device)\n",
    "            x = x.reshape(x.shape[0], -1)\n",
    "\n",
    "            scores = model(x)\n",
    "            _, predictions = scores.max(1)\n",
    "            num_correct += (predictions == y).sum()\n",
    "            num_samples += predictions.size(0)\n",
    "\n",
    "        print(\n",
    "            f\"Got {num_correct} / {num_samples} with accuracy\"\n",
    "            f\" {float(num_correct) / float(num_samples) * 100:.2f}\"\n",
    "        )\n",
    "\n",
    "    model.train()"
   ]
  },
  {
   "cell_type": "code",
   "execution_count": 10,
   "metadata": {},
   "outputs": [
    {
     "name": "stdout",
     "output_type": "stream",
     "text": [
      "Got 58145 / 60000 with accuracy 96.91\n",
      "Got 9646 / 10000 with accuracy 96.46\n"
     ]
    }
   ],
   "source": [
    "check_accuracy(train_loader, model)\n",
    "check_accuracy(test_loader, model)"
   ]
  }
 ],
 "metadata": {
  "kernelspec": {
   "display_name": "Python 3",
   "language": "python",
   "name": "python3"
  },
  "language_info": {
   "codemirror_mode": {
    "name": "ipython",
    "version": 3
   },
   "file_extension": ".py",
   "mimetype": "text/x-python",
   "name": "python",
   "nbconvert_exporter": "python",
   "pygments_lexer": "ipython3",
   "version": "3.8.10"
  }
 },
 "nbformat": 4,
 "nbformat_minor": 4
}
